{
 "cells": [
  {
   "cell_type": "code",
   "execution_count": 1,
   "metadata": {},
   "outputs": [],
   "source": [
    "import ollama\n",
    "import pandas as pd\n",
    "from rich import print as p\n",
    "from sklearn.metrics import classification_report"
   ]
  },
  {
   "cell_type": "markdown",
   "metadata": {},
   "source": [
    "# Results I"
   ]
  },
  {
   "cell_type": "code",
   "execution_count": 2,
   "metadata": {},
   "outputs": [],
   "source": [
    "datasets = ('facebook', 'twitter')\n",
    "models = ('llama3', 'mistral', 'gemma2', 'gpt-3.5-turbo-0125')"
   ]
  },
  {
   "cell_type": "code",
   "execution_count": 3,
   "metadata": {},
   "outputs": [
    {
     "data": {
      "text/html": [
       "<pre style=\"white-space:pre;overflow-x:auto;line-height:normal;font-family:Menlo,'DejaVu Sans Mono',consolas,'Courier New',monospace\"><span style=\"color: #800000; text-decoration-color: #800000; font-weight: bold\">facebook: llama3</span>\n",
       "</pre>\n"
      ],
      "text/plain": [
       "\u001b[1;31mfacebook: llama3\u001b[0m\n"
      ]
     },
     "metadata": {},
     "output_type": "display_data"
    },
    {
     "data": {
      "text/html": [
       "<pre style=\"white-space:pre;overflow-x:auto;line-height:normal;font-family:Menlo,'DejaVu Sans Mono',consolas,'Courier New',monospace\">              precision    recall  f1-score   support\n",
       "\n",
       "    negative       <span style=\"color: #008080; text-decoration-color: #008080; font-weight: bold\">0.12</span>      <span style=\"color: #008080; text-decoration-color: #008080; font-weight: bold\">0.87</span>      <span style=\"color: #008080; text-decoration-color: #008080; font-weight: bold\">0.22</span>        <span style=\"color: #008080; text-decoration-color: #008080; font-weight: bold\">31</span>\n",
       "     neutral       <span style=\"color: #008080; text-decoration-color: #008080; font-weight: bold\">0.78</span>      <span style=\"color: #008080; text-decoration-color: #008080; font-weight: bold\">0.67</span>      <span style=\"color: #008080; text-decoration-color: #008080; font-weight: bold\">0.72</span>       <span style=\"color: #008080; text-decoration-color: #008080; font-weight: bold\">590</span>\n",
       "    positive       <span style=\"color: #008080; text-decoration-color: #008080; font-weight: bold\">0.83</span>      <span style=\"color: #008080; text-decoration-color: #008080; font-weight: bold\">0.67</span>      <span style=\"color: #008080; text-decoration-color: #008080; font-weight: bold\">0.74</span>       <span style=\"color: #008080; text-decoration-color: #008080; font-weight: bold\">578</span>\n",
       "\n",
       "    accuracy                           <span style=\"color: #008080; text-decoration-color: #008080; font-weight: bold\">0.68</span>      <span style=\"color: #008080; text-decoration-color: #008080; font-weight: bold\">1199</span>\n",
       "   macro avg       <span style=\"color: #008080; text-decoration-color: #008080; font-weight: bold\">0.58</span>      <span style=\"color: #008080; text-decoration-color: #008080; font-weight: bold\">0.74</span>      <span style=\"color: #008080; text-decoration-color: #008080; font-weight: bold\">0.56</span>      <span style=\"color: #008080; text-decoration-color: #008080; font-weight: bold\">1199</span>\n",
       "weighted avg       <span style=\"color: #008080; text-decoration-color: #008080; font-weight: bold\">0.78</span>      <span style=\"color: #008080; text-decoration-color: #008080; font-weight: bold\">0.68</span>      <span style=\"color: #008080; text-decoration-color: #008080; font-weight: bold\">0.72</span>      <span style=\"color: #008080; text-decoration-color: #008080; font-weight: bold\">1199</span>\n",
       "\n",
       "</pre>\n"
      ],
      "text/plain": [
       "              precision    recall  f1-score   support\n",
       "\n",
       "    negative       \u001b[1;36m0.12\u001b[0m      \u001b[1;36m0.87\u001b[0m      \u001b[1;36m0.22\u001b[0m        \u001b[1;36m31\u001b[0m\n",
       "     neutral       \u001b[1;36m0.78\u001b[0m      \u001b[1;36m0.67\u001b[0m      \u001b[1;36m0.72\u001b[0m       \u001b[1;36m590\u001b[0m\n",
       "    positive       \u001b[1;36m0.83\u001b[0m      \u001b[1;36m0.67\u001b[0m      \u001b[1;36m0.74\u001b[0m       \u001b[1;36m578\u001b[0m\n",
       "\n",
       "    accuracy                           \u001b[1;36m0.68\u001b[0m      \u001b[1;36m1199\u001b[0m\n",
       "   macro avg       \u001b[1;36m0.58\u001b[0m      \u001b[1;36m0.74\u001b[0m      \u001b[1;36m0.56\u001b[0m      \u001b[1;36m1199\u001b[0m\n",
       "weighted avg       \u001b[1;36m0.78\u001b[0m      \u001b[1;36m0.68\u001b[0m      \u001b[1;36m0.72\u001b[0m      \u001b[1;36m1199\u001b[0m\n",
       "\n"
      ]
     },
     "metadata": {},
     "output_type": "display_data"
    },
    {
     "data": {
      "text/html": [
       "<pre style=\"white-space:pre;overflow-x:auto;line-height:normal;font-family:Menlo,'DejaVu Sans Mono',consolas,'Courier New',monospace\"><span style=\"color: #800000; text-decoration-color: #800000; font-weight: bold\">facebook: mistral</span>\n",
       "</pre>\n"
      ],
      "text/plain": [
       "\u001b[1;31mfacebook: mistral\u001b[0m\n"
      ]
     },
     "metadata": {},
     "output_type": "display_data"
    },
    {
     "data": {
      "text/html": [
       "<pre style=\"white-space:pre;overflow-x:auto;line-height:normal;font-family:Menlo,'DejaVu Sans Mono',consolas,'Courier New',monospace\">              precision    recall  f1-score   support\n",
       "\n",
       "    negative       <span style=\"color: #008080; text-decoration-color: #008080; font-weight: bold\">0.21</span>      <span style=\"color: #008080; text-decoration-color: #008080; font-weight: bold\">0.74</span>      <span style=\"color: #008080; text-decoration-color: #008080; font-weight: bold\">0.33</span>        <span style=\"color: #008080; text-decoration-color: #008080; font-weight: bold\">31</span>\n",
       "     neutral       <span style=\"color: #008080; text-decoration-color: #008080; font-weight: bold\">0.79</span>      <span style=\"color: #008080; text-decoration-color: #008080; font-weight: bold\">0.70</span>      <span style=\"color: #008080; text-decoration-color: #008080; font-weight: bold\">0.74</span>       <span style=\"color: #008080; text-decoration-color: #008080; font-weight: bold\">590</span>\n",
       "    positive       <span style=\"color: #008080; text-decoration-color: #008080; font-weight: bold\">0.76</span>      <span style=\"color: #008080; text-decoration-color: #008080; font-weight: bold\">0.74</span>      <span style=\"color: #008080; text-decoration-color: #008080; font-weight: bold\">0.75</span>       <span style=\"color: #008080; text-decoration-color: #008080; font-weight: bold\">578</span>\n",
       "\n",
       "    accuracy                           <span style=\"color: #008080; text-decoration-color: #008080; font-weight: bold\">0.72</span>      <span style=\"color: #008080; text-decoration-color: #008080; font-weight: bold\">1199</span>\n",
       "   macro avg       <span style=\"color: #008080; text-decoration-color: #008080; font-weight: bold\">0.59</span>      <span style=\"color: #008080; text-decoration-color: #008080; font-weight: bold\">0.73</span>      <span style=\"color: #008080; text-decoration-color: #008080; font-weight: bold\">0.61</span>      <span style=\"color: #008080; text-decoration-color: #008080; font-weight: bold\">1199</span>\n",
       "weighted avg       <span style=\"color: #008080; text-decoration-color: #008080; font-weight: bold\">0.76</span>      <span style=\"color: #008080; text-decoration-color: #008080; font-weight: bold\">0.72</span>      <span style=\"color: #008080; text-decoration-color: #008080; font-weight: bold\">0.74</span>      <span style=\"color: #008080; text-decoration-color: #008080; font-weight: bold\">1199</span>\n",
       "\n",
       "</pre>\n"
      ],
      "text/plain": [
       "              precision    recall  f1-score   support\n",
       "\n",
       "    negative       \u001b[1;36m0.21\u001b[0m      \u001b[1;36m0.74\u001b[0m      \u001b[1;36m0.33\u001b[0m        \u001b[1;36m31\u001b[0m\n",
       "     neutral       \u001b[1;36m0.79\u001b[0m      \u001b[1;36m0.70\u001b[0m      \u001b[1;36m0.74\u001b[0m       \u001b[1;36m590\u001b[0m\n",
       "    positive       \u001b[1;36m0.76\u001b[0m      \u001b[1;36m0.74\u001b[0m      \u001b[1;36m0.75\u001b[0m       \u001b[1;36m578\u001b[0m\n",
       "\n",
       "    accuracy                           \u001b[1;36m0.72\u001b[0m      \u001b[1;36m1199\u001b[0m\n",
       "   macro avg       \u001b[1;36m0.59\u001b[0m      \u001b[1;36m0.73\u001b[0m      \u001b[1;36m0.61\u001b[0m      \u001b[1;36m1199\u001b[0m\n",
       "weighted avg       \u001b[1;36m0.76\u001b[0m      \u001b[1;36m0.72\u001b[0m      \u001b[1;36m0.74\u001b[0m      \u001b[1;36m1199\u001b[0m\n",
       "\n"
      ]
     },
     "metadata": {},
     "output_type": "display_data"
    },
    {
     "data": {
      "text/html": [
       "<pre style=\"white-space:pre;overflow-x:auto;line-height:normal;font-family:Menlo,'DejaVu Sans Mono',consolas,'Courier New',monospace\"><span style=\"color: #800000; text-decoration-color: #800000; font-weight: bold\">facebook: gemma2</span>\n",
       "</pre>\n"
      ],
      "text/plain": [
       "\u001b[1;31mfacebook: gemma2\u001b[0m\n"
      ]
     },
     "metadata": {},
     "output_type": "display_data"
    },
    {
     "data": {
      "text/html": [
       "<pre style=\"white-space:pre;overflow-x:auto;line-height:normal;font-family:Menlo,'DejaVu Sans Mono',consolas,'Courier New',monospace\">              precision    recall  f1-score   support\n",
       "\n",
       "    negative       <span style=\"color: #008080; text-decoration-color: #008080; font-weight: bold\">0.29</span>      <span style=\"color: #008080; text-decoration-color: #008080; font-weight: bold\">0.81</span>      <span style=\"color: #008080; text-decoration-color: #008080; font-weight: bold\">0.43</span>        <span style=\"color: #008080; text-decoration-color: #008080; font-weight: bold\">31</span>\n",
       "     neutral       <span style=\"color: #008080; text-decoration-color: #008080; font-weight: bold\">0.82</span>      <span style=\"color: #008080; text-decoration-color: #008080; font-weight: bold\">0.76</span>      <span style=\"color: #008080; text-decoration-color: #008080; font-weight: bold\">0.79</span>       <span style=\"color: #008080; text-decoration-color: #008080; font-weight: bold\">590</span>\n",
       "    positive       <span style=\"color: #008080; text-decoration-color: #008080; font-weight: bold\">0.81</span>      <span style=\"color: #008080; text-decoration-color: #008080; font-weight: bold\">0.80</span>      <span style=\"color: #008080; text-decoration-color: #008080; font-weight: bold\">0.81</span>       <span style=\"color: #008080; text-decoration-color: #008080; font-weight: bold\">578</span>\n",
       "\n",
       "    accuracy                           <span style=\"color: #008080; text-decoration-color: #008080; font-weight: bold\">0.78</span>      <span style=\"color: #008080; text-decoration-color: #008080; font-weight: bold\">1199</span>\n",
       "   macro avg       <span style=\"color: #008080; text-decoration-color: #008080; font-weight: bold\">0.64</span>      <span style=\"color: #008080; text-decoration-color: #008080; font-weight: bold\">0.79</span>      <span style=\"color: #008080; text-decoration-color: #008080; font-weight: bold\">0.68</span>      <span style=\"color: #008080; text-decoration-color: #008080; font-weight: bold\">1199</span>\n",
       "weighted avg       <span style=\"color: #008080; text-decoration-color: #008080; font-weight: bold\">0.80</span>      <span style=\"color: #008080; text-decoration-color: #008080; font-weight: bold\">0.78</span>      <span style=\"color: #008080; text-decoration-color: #008080; font-weight: bold\">0.79</span>      <span style=\"color: #008080; text-decoration-color: #008080; font-weight: bold\">1199</span>\n",
       "\n",
       "</pre>\n"
      ],
      "text/plain": [
       "              precision    recall  f1-score   support\n",
       "\n",
       "    negative       \u001b[1;36m0.29\u001b[0m      \u001b[1;36m0.81\u001b[0m      \u001b[1;36m0.43\u001b[0m        \u001b[1;36m31\u001b[0m\n",
       "     neutral       \u001b[1;36m0.82\u001b[0m      \u001b[1;36m0.76\u001b[0m      \u001b[1;36m0.79\u001b[0m       \u001b[1;36m590\u001b[0m\n",
       "    positive       \u001b[1;36m0.81\u001b[0m      \u001b[1;36m0.80\u001b[0m      \u001b[1;36m0.81\u001b[0m       \u001b[1;36m578\u001b[0m\n",
       "\n",
       "    accuracy                           \u001b[1;36m0.78\u001b[0m      \u001b[1;36m1199\u001b[0m\n",
       "   macro avg       \u001b[1;36m0.64\u001b[0m      \u001b[1;36m0.79\u001b[0m      \u001b[1;36m0.68\u001b[0m      \u001b[1;36m1199\u001b[0m\n",
       "weighted avg       \u001b[1;36m0.80\u001b[0m      \u001b[1;36m0.78\u001b[0m      \u001b[1;36m0.79\u001b[0m      \u001b[1;36m1199\u001b[0m\n",
       "\n"
      ]
     },
     "metadata": {},
     "output_type": "display_data"
    },
    {
     "data": {
      "text/html": [
       "<pre style=\"white-space:pre;overflow-x:auto;line-height:normal;font-family:Menlo,'DejaVu Sans Mono',consolas,'Courier New',monospace\"><span style=\"color: #800000; text-decoration-color: #800000; font-weight: bold\">facebook: gpt-</span><span style=\"color: #800000; text-decoration-color: #800000; font-weight: bold\">3.5</span><span style=\"color: #800000; text-decoration-color: #800000; font-weight: bold\">-turbo-</span><span style=\"color: #800000; text-decoration-color: #800000; font-weight: bold\">0125</span>\n",
       "</pre>\n"
      ],
      "text/plain": [
       "\u001b[1;31mfacebook: gpt-\u001b[0m\u001b[1;31m3.5\u001b[0m\u001b[1;31m-turbo-\u001b[0m\u001b[1;31m0125\u001b[0m\n"
      ]
     },
     "metadata": {},
     "output_type": "display_data"
    },
    {
     "data": {
      "text/html": [
       "<pre style=\"white-space:pre;overflow-x:auto;line-height:normal;font-family:Menlo,'DejaVu Sans Mono',consolas,'Courier New',monospace\">              precision    recall  f1-score   support\n",
       "\n",
       "    negative       <span style=\"color: #008080; text-decoration-color: #008080; font-weight: bold\">0.27</span>      <span style=\"color: #008080; text-decoration-color: #008080; font-weight: bold\">0.84</span>      <span style=\"color: #008080; text-decoration-color: #008080; font-weight: bold\">0.41</span>        <span style=\"color: #008080; text-decoration-color: #008080; font-weight: bold\">31</span>\n",
       "     neutral       <span style=\"color: #008080; text-decoration-color: #008080; font-weight: bold\">0.79</span>      <span style=\"color: #008080; text-decoration-color: #008080; font-weight: bold\">0.77</span>      <span style=\"color: #008080; text-decoration-color: #008080; font-weight: bold\">0.78</span>       <span style=\"color: #008080; text-decoration-color: #008080; font-weight: bold\">590</span>\n",
       "    positive       <span style=\"color: #008080; text-decoration-color: #008080; font-weight: bold\">0.82</span>      <span style=\"color: #008080; text-decoration-color: #008080; font-weight: bold\">0.74</span>      <span style=\"color: #008080; text-decoration-color: #008080; font-weight: bold\">0.78</span>       <span style=\"color: #008080; text-decoration-color: #008080; font-weight: bold\">578</span>\n",
       "\n",
       "    accuracy                           <span style=\"color: #008080; text-decoration-color: #008080; font-weight: bold\">0.76</span>      <span style=\"color: #008080; text-decoration-color: #008080; font-weight: bold\">1199</span>\n",
       "   macro avg       <span style=\"color: #008080; text-decoration-color: #008080; font-weight: bold\">0.63</span>      <span style=\"color: #008080; text-decoration-color: #008080; font-weight: bold\">0.79</span>      <span style=\"color: #008080; text-decoration-color: #008080; font-weight: bold\">0.66</span>      <span style=\"color: #008080; text-decoration-color: #008080; font-weight: bold\">1199</span>\n",
       "weighted avg       <span style=\"color: #008080; text-decoration-color: #008080; font-weight: bold\">0.79</span>      <span style=\"color: #008080; text-decoration-color: #008080; font-weight: bold\">0.76</span>      <span style=\"color: #008080; text-decoration-color: #008080; font-weight: bold\">0.77</span>      <span style=\"color: #008080; text-decoration-color: #008080; font-weight: bold\">1199</span>\n",
       "\n",
       "</pre>\n"
      ],
      "text/plain": [
       "              precision    recall  f1-score   support\n",
       "\n",
       "    negative       \u001b[1;36m0.27\u001b[0m      \u001b[1;36m0.84\u001b[0m      \u001b[1;36m0.41\u001b[0m        \u001b[1;36m31\u001b[0m\n",
       "     neutral       \u001b[1;36m0.79\u001b[0m      \u001b[1;36m0.77\u001b[0m      \u001b[1;36m0.78\u001b[0m       \u001b[1;36m590\u001b[0m\n",
       "    positive       \u001b[1;36m0.82\u001b[0m      \u001b[1;36m0.74\u001b[0m      \u001b[1;36m0.78\u001b[0m       \u001b[1;36m578\u001b[0m\n",
       "\n",
       "    accuracy                           \u001b[1;36m0.76\u001b[0m      \u001b[1;36m1199\u001b[0m\n",
       "   macro avg       \u001b[1;36m0.63\u001b[0m      \u001b[1;36m0.79\u001b[0m      \u001b[1;36m0.66\u001b[0m      \u001b[1;36m1199\u001b[0m\n",
       "weighted avg       \u001b[1;36m0.79\u001b[0m      \u001b[1;36m0.76\u001b[0m      \u001b[1;36m0.77\u001b[0m      \u001b[1;36m1199\u001b[0m\n",
       "\n"
      ]
     },
     "metadata": {},
     "output_type": "display_data"
    },
    {
     "data": {
      "text/html": [
       "<pre style=\"white-space:pre;overflow-x:auto;line-height:normal;font-family:Menlo,'DejaVu Sans Mono',consolas,'Courier New',monospace\"><span style=\"color: #800000; text-decoration-color: #800000; font-weight: bold\">twitter: llama3</span>\n",
       "</pre>\n"
      ],
      "text/plain": [
       "\u001b[1;31mtwitter: llama3\u001b[0m\n"
      ]
     },
     "metadata": {},
     "output_type": "display_data"
    },
    {
     "data": {
      "text/html": [
       "<pre style=\"white-space:pre;overflow-x:auto;line-height:normal;font-family:Menlo,'DejaVu Sans Mono',consolas,'Courier New',monospace\">              precision    recall  f1-score   support\n",
       "\n",
       "    negative       <span style=\"color: #008080; text-decoration-color: #008080; font-weight: bold\">0.20</span>      <span style=\"color: #008080; text-decoration-color: #008080; font-weight: bold\">0.79</span>      <span style=\"color: #008080; text-decoration-color: #008080; font-weight: bold\">0.32</span>        <span style=\"color: #008080; text-decoration-color: #008080; font-weight: bold\">19</span>\n",
       "     neutral       <span style=\"color: #008080; text-decoration-color: #008080; font-weight: bold\">0.98</span>      <span style=\"color: #008080; text-decoration-color: #008080; font-weight: bold\">0.58</span>      <span style=\"color: #008080; text-decoration-color: #008080; font-weight: bold\">0.73</span>       <span style=\"color: #008080; text-decoration-color: #008080; font-weight: bold\">878</span>\n",
       "    positive       <span style=\"color: #008080; text-decoration-color: #008080; font-weight: bold\">0.21</span>      <span style=\"color: #008080; text-decoration-color: #008080; font-weight: bold\">0.83</span>      <span style=\"color: #008080; text-decoration-color: #008080; font-weight: bold\">0.34</span>       <span style=\"color: #008080; text-decoration-color: #008080; font-weight: bold\">103</span>\n",
       "\n",
       "    accuracy                           <span style=\"color: #008080; text-decoration-color: #008080; font-weight: bold\">0.61</span>      <span style=\"color: #008080; text-decoration-color: #008080; font-weight: bold\">1000</span>\n",
       "   macro avg       <span style=\"color: #008080; text-decoration-color: #008080; font-weight: bold\">0.46</span>      <span style=\"color: #008080; text-decoration-color: #008080; font-weight: bold\">0.73</span>      <span style=\"color: #008080; text-decoration-color: #008080; font-weight: bold\">0.46</span>      <span style=\"color: #008080; text-decoration-color: #008080; font-weight: bold\">1000</span>\n",
       "weighted avg       <span style=\"color: #008080; text-decoration-color: #008080; font-weight: bold\">0.88</span>      <span style=\"color: #008080; text-decoration-color: #008080; font-weight: bold\">0.61</span>      <span style=\"color: #008080; text-decoration-color: #008080; font-weight: bold\">0.68</span>      <span style=\"color: #008080; text-decoration-color: #008080; font-weight: bold\">1000</span>\n",
       "\n",
       "</pre>\n"
      ],
      "text/plain": [
       "              precision    recall  f1-score   support\n",
       "\n",
       "    negative       \u001b[1;36m0.20\u001b[0m      \u001b[1;36m0.79\u001b[0m      \u001b[1;36m0.32\u001b[0m        \u001b[1;36m19\u001b[0m\n",
       "     neutral       \u001b[1;36m0.98\u001b[0m      \u001b[1;36m0.58\u001b[0m      \u001b[1;36m0.73\u001b[0m       \u001b[1;36m878\u001b[0m\n",
       "    positive       \u001b[1;36m0.21\u001b[0m      \u001b[1;36m0.83\u001b[0m      \u001b[1;36m0.34\u001b[0m       \u001b[1;36m103\u001b[0m\n",
       "\n",
       "    accuracy                           \u001b[1;36m0.61\u001b[0m      \u001b[1;36m1000\u001b[0m\n",
       "   macro avg       \u001b[1;36m0.46\u001b[0m      \u001b[1;36m0.73\u001b[0m      \u001b[1;36m0.46\u001b[0m      \u001b[1;36m1000\u001b[0m\n",
       "weighted avg       \u001b[1;36m0.88\u001b[0m      \u001b[1;36m0.61\u001b[0m      \u001b[1;36m0.68\u001b[0m      \u001b[1;36m1000\u001b[0m\n",
       "\n"
      ]
     },
     "metadata": {},
     "output_type": "display_data"
    },
    {
     "data": {
      "text/html": [
       "<pre style=\"white-space:pre;overflow-x:auto;line-height:normal;font-family:Menlo,'DejaVu Sans Mono',consolas,'Courier New',monospace\"><span style=\"color: #800000; text-decoration-color: #800000; font-weight: bold\">twitter: mistral</span>\n",
       "</pre>\n"
      ],
      "text/plain": [
       "\u001b[1;31mtwitter: mistral\u001b[0m\n"
      ]
     },
     "metadata": {},
     "output_type": "display_data"
    },
    {
     "data": {
      "text/html": [
       "<pre style=\"white-space:pre;overflow-x:auto;line-height:normal;font-family:Menlo,'DejaVu Sans Mono',consolas,'Courier New',monospace\">              precision    recall  f1-score   support\n",
       "\n",
       "    negative       <span style=\"color: #008080; text-decoration-color: #008080; font-weight: bold\">0.17</span>      <span style=\"color: #008080; text-decoration-color: #008080; font-weight: bold\">0.68</span>      <span style=\"color: #008080; text-decoration-color: #008080; font-weight: bold\">0.27</span>        <span style=\"color: #008080; text-decoration-color: #008080; font-weight: bold\">19</span>\n",
       "     neutral       <span style=\"color: #008080; text-decoration-color: #008080; font-weight: bold\">0.98</span>      <span style=\"color: #008080; text-decoration-color: #008080; font-weight: bold\">0.26</span>      <span style=\"color: #008080; text-decoration-color: #008080; font-weight: bold\">0.40</span>       <span style=\"color: #008080; text-decoration-color: #008080; font-weight: bold\">878</span>\n",
       "    positive       <span style=\"color: #008080; text-decoration-color: #008080; font-weight: bold\">0.13</span>      <span style=\"color: #008080; text-decoration-color: #008080; font-weight: bold\">0.89</span>      <span style=\"color: #008080; text-decoration-color: #008080; font-weight: bold\">0.23</span>       <span style=\"color: #008080; text-decoration-color: #008080; font-weight: bold\">103</span>\n",
       "\n",
       "    accuracy                           <span style=\"color: #008080; text-decoration-color: #008080; font-weight: bold\">0.33</span>      <span style=\"color: #008080; text-decoration-color: #008080; font-weight: bold\">1000</span>\n",
       "   macro avg       <span style=\"color: #008080; text-decoration-color: #008080; font-weight: bold\">0.43</span>      <span style=\"color: #008080; text-decoration-color: #008080; font-weight: bold\">0.61</span>      <span style=\"color: #008080; text-decoration-color: #008080; font-weight: bold\">0.30</span>      <span style=\"color: #008080; text-decoration-color: #008080; font-weight: bold\">1000</span>\n",
       "weighted avg       <span style=\"color: #008080; text-decoration-color: #008080; font-weight: bold\">0.88</span>      <span style=\"color: #008080; text-decoration-color: #008080; font-weight: bold\">0.33</span>      <span style=\"color: #008080; text-decoration-color: #008080; font-weight: bold\">0.38</span>      <span style=\"color: #008080; text-decoration-color: #008080; font-weight: bold\">1000</span>\n",
       "\n",
       "</pre>\n"
      ],
      "text/plain": [
       "              precision    recall  f1-score   support\n",
       "\n",
       "    negative       \u001b[1;36m0.17\u001b[0m      \u001b[1;36m0.68\u001b[0m      \u001b[1;36m0.27\u001b[0m        \u001b[1;36m19\u001b[0m\n",
       "     neutral       \u001b[1;36m0.98\u001b[0m      \u001b[1;36m0.26\u001b[0m      \u001b[1;36m0.40\u001b[0m       \u001b[1;36m878\u001b[0m\n",
       "    positive       \u001b[1;36m0.13\u001b[0m      \u001b[1;36m0.89\u001b[0m      \u001b[1;36m0.23\u001b[0m       \u001b[1;36m103\u001b[0m\n",
       "\n",
       "    accuracy                           \u001b[1;36m0.33\u001b[0m      \u001b[1;36m1000\u001b[0m\n",
       "   macro avg       \u001b[1;36m0.43\u001b[0m      \u001b[1;36m0.61\u001b[0m      \u001b[1;36m0.30\u001b[0m      \u001b[1;36m1000\u001b[0m\n",
       "weighted avg       \u001b[1;36m0.88\u001b[0m      \u001b[1;36m0.33\u001b[0m      \u001b[1;36m0.38\u001b[0m      \u001b[1;36m1000\u001b[0m\n",
       "\n"
      ]
     },
     "metadata": {},
     "output_type": "display_data"
    },
    {
     "data": {
      "text/html": [
       "<pre style=\"white-space:pre;overflow-x:auto;line-height:normal;font-family:Menlo,'DejaVu Sans Mono',consolas,'Courier New',monospace\"><span style=\"color: #800000; text-decoration-color: #800000; font-weight: bold\">twitter: gemma2</span>\n",
       "</pre>\n"
      ],
      "text/plain": [
       "\u001b[1;31mtwitter: gemma2\u001b[0m\n"
      ]
     },
     "metadata": {},
     "output_type": "display_data"
    },
    {
     "data": {
      "text/html": [
       "<pre style=\"white-space:pre;overflow-x:auto;line-height:normal;font-family:Menlo,'DejaVu Sans Mono',consolas,'Courier New',monospace\">              precision    recall  f1-score   support\n",
       "\n",
       "    negative       <span style=\"color: #008080; text-decoration-color: #008080; font-weight: bold\">0.26</span>      <span style=\"color: #008080; text-decoration-color: #008080; font-weight: bold\">0.53</span>      <span style=\"color: #008080; text-decoration-color: #008080; font-weight: bold\">0.35</span>        <span style=\"color: #008080; text-decoration-color: #008080; font-weight: bold\">19</span>\n",
       "     neutral       <span style=\"color: #008080; text-decoration-color: #008080; font-weight: bold\">0.97</span>      <span style=\"color: #008080; text-decoration-color: #008080; font-weight: bold\">0.34</span>      <span style=\"color: #008080; text-decoration-color: #008080; font-weight: bold\">0.50</span>       <span style=\"color: #008080; text-decoration-color: #008080; font-weight: bold\">878</span>\n",
       "    positive       <span style=\"color: #008080; text-decoration-color: #008080; font-weight: bold\">0.15</span>      <span style=\"color: #008080; text-decoration-color: #008080; font-weight: bold\">0.95</span>      <span style=\"color: #008080; text-decoration-color: #008080; font-weight: bold\">0.26</span>       <span style=\"color: #008080; text-decoration-color: #008080; font-weight: bold\">103</span>\n",
       "\n",
       "    accuracy                           <span style=\"color: #008080; text-decoration-color: #008080; font-weight: bold\">0.41</span>      <span style=\"color: #008080; text-decoration-color: #008080; font-weight: bold\">1000</span>\n",
       "   macro avg       <span style=\"color: #008080; text-decoration-color: #008080; font-weight: bold\">0.46</span>      <span style=\"color: #008080; text-decoration-color: #008080; font-weight: bold\">0.61</span>      <span style=\"color: #008080; text-decoration-color: #008080; font-weight: bold\">0.37</span>      <span style=\"color: #008080; text-decoration-color: #008080; font-weight: bold\">1000</span>\n",
       "weighted avg       <span style=\"color: #008080; text-decoration-color: #008080; font-weight: bold\">0.88</span>      <span style=\"color: #008080; text-decoration-color: #008080; font-weight: bold\">0.41</span>      <span style=\"color: #008080; text-decoration-color: #008080; font-weight: bold\">0.48</span>      <span style=\"color: #008080; text-decoration-color: #008080; font-weight: bold\">1000</span>\n",
       "\n",
       "</pre>\n"
      ],
      "text/plain": [
       "              precision    recall  f1-score   support\n",
       "\n",
       "    negative       \u001b[1;36m0.26\u001b[0m      \u001b[1;36m0.53\u001b[0m      \u001b[1;36m0.35\u001b[0m        \u001b[1;36m19\u001b[0m\n",
       "     neutral       \u001b[1;36m0.97\u001b[0m      \u001b[1;36m0.34\u001b[0m      \u001b[1;36m0.50\u001b[0m       \u001b[1;36m878\u001b[0m\n",
       "    positive       \u001b[1;36m0.15\u001b[0m      \u001b[1;36m0.95\u001b[0m      \u001b[1;36m0.26\u001b[0m       \u001b[1;36m103\u001b[0m\n",
       "\n",
       "    accuracy                           \u001b[1;36m0.41\u001b[0m      \u001b[1;36m1000\u001b[0m\n",
       "   macro avg       \u001b[1;36m0.46\u001b[0m      \u001b[1;36m0.61\u001b[0m      \u001b[1;36m0.37\u001b[0m      \u001b[1;36m1000\u001b[0m\n",
       "weighted avg       \u001b[1;36m0.88\u001b[0m      \u001b[1;36m0.41\u001b[0m      \u001b[1;36m0.48\u001b[0m      \u001b[1;36m1000\u001b[0m\n",
       "\n"
      ]
     },
     "metadata": {},
     "output_type": "display_data"
    },
    {
     "data": {
      "text/html": [
       "<pre style=\"white-space:pre;overflow-x:auto;line-height:normal;font-family:Menlo,'DejaVu Sans Mono',consolas,'Courier New',monospace\"><span style=\"color: #800000; text-decoration-color: #800000; font-weight: bold\">twitter: gpt-</span><span style=\"color: #800000; text-decoration-color: #800000; font-weight: bold\">3.5</span><span style=\"color: #800000; text-decoration-color: #800000; font-weight: bold\">-turbo-</span><span style=\"color: #800000; text-decoration-color: #800000; font-weight: bold\">0125</span>\n",
       "</pre>\n"
      ],
      "text/plain": [
       "\u001b[1;31mtwitter: gpt-\u001b[0m\u001b[1;31m3.5\u001b[0m\u001b[1;31m-turbo-\u001b[0m\u001b[1;31m0125\u001b[0m\n"
      ]
     },
     "metadata": {},
     "output_type": "display_data"
    },
    {
     "data": {
      "text/html": [
       "<pre style=\"white-space:pre;overflow-x:auto;line-height:normal;font-family:Menlo,'DejaVu Sans Mono',consolas,'Courier New',monospace\">              precision    recall  f1-score   support\n",
       "\n",
       "    negative       <span style=\"color: #008080; text-decoration-color: #008080; font-weight: bold\">0.23</span>      <span style=\"color: #008080; text-decoration-color: #008080; font-weight: bold\">0.79</span>      <span style=\"color: #008080; text-decoration-color: #008080; font-weight: bold\">0.36</span>        <span style=\"color: #008080; text-decoration-color: #008080; font-weight: bold\">19</span>\n",
       "     neutral       <span style=\"color: #008080; text-decoration-color: #008080; font-weight: bold\">0.96</span>      <span style=\"color: #008080; text-decoration-color: #008080; font-weight: bold\">0.38</span>      <span style=\"color: #008080; text-decoration-color: #008080; font-weight: bold\">0.54</span>       <span style=\"color: #008080; text-decoration-color: #008080; font-weight: bold\">878</span>\n",
       "    positive       <span style=\"color: #008080; text-decoration-color: #008080; font-weight: bold\">0.14</span>      <span style=\"color: #008080; text-decoration-color: #008080; font-weight: bold\">0.81</span>      <span style=\"color: #008080; text-decoration-color: #008080; font-weight: bold\">0.24</span>       <span style=\"color: #008080; text-decoration-color: #008080; font-weight: bold\">103</span>\n",
       "\n",
       "    accuracy                           <span style=\"color: #008080; text-decoration-color: #008080; font-weight: bold\">0.43</span>      <span style=\"color: #008080; text-decoration-color: #008080; font-weight: bold\">1000</span>\n",
       "   macro avg       <span style=\"color: #008080; text-decoration-color: #008080; font-weight: bold\">0.44</span>      <span style=\"color: #008080; text-decoration-color: #008080; font-weight: bold\">0.66</span>      <span style=\"color: #008080; text-decoration-color: #008080; font-weight: bold\">0.38</span>      <span style=\"color: #008080; text-decoration-color: #008080; font-weight: bold\">1000</span>\n",
       "weighted avg       <span style=\"color: #008080; text-decoration-color: #008080; font-weight: bold\">0.86</span>      <span style=\"color: #008080; text-decoration-color: #008080; font-weight: bold\">0.43</span>      <span style=\"color: #008080; text-decoration-color: #008080; font-weight: bold\">0.51</span>      <span style=\"color: #008080; text-decoration-color: #008080; font-weight: bold\">1000</span>\n",
       "\n",
       "</pre>\n"
      ],
      "text/plain": [
       "              precision    recall  f1-score   support\n",
       "\n",
       "    negative       \u001b[1;36m0.23\u001b[0m      \u001b[1;36m0.79\u001b[0m      \u001b[1;36m0.36\u001b[0m        \u001b[1;36m19\u001b[0m\n",
       "     neutral       \u001b[1;36m0.96\u001b[0m      \u001b[1;36m0.38\u001b[0m      \u001b[1;36m0.54\u001b[0m       \u001b[1;36m878\u001b[0m\n",
       "    positive       \u001b[1;36m0.14\u001b[0m      \u001b[1;36m0.81\u001b[0m      \u001b[1;36m0.24\u001b[0m       \u001b[1;36m103\u001b[0m\n",
       "\n",
       "    accuracy                           \u001b[1;36m0.43\u001b[0m      \u001b[1;36m1000\u001b[0m\n",
       "   macro avg       \u001b[1;36m0.44\u001b[0m      \u001b[1;36m0.66\u001b[0m      \u001b[1;36m0.38\u001b[0m      \u001b[1;36m1000\u001b[0m\n",
       "weighted avg       \u001b[1;36m0.86\u001b[0m      \u001b[1;36m0.43\u001b[0m      \u001b[1;36m0.51\u001b[0m      \u001b[1;36m1000\u001b[0m\n",
       "\n"
      ]
     },
     "metadata": {},
     "output_type": "display_data"
    }
   ],
   "source": [
    "for data in datasets:\n",
    "    df = pd.read_csv(f'../data/opinions/{data}_cachaca.csv')\n",
    "    for model in models:\n",
    "        y_true, y_pred = df['labels'], df[model]\n",
    "        p(f'[bold red]{data}: {model}[/bold red]')\n",
    "        p(classification_report(y_true, y_pred))"
   ]
  },
  {
   "cell_type": "markdown",
   "metadata": {},
   "source": [
    "# Evaluating manually labeled data"
   ]
  },
  {
   "cell_type": "markdown",
   "metadata": {},
   "source": [
    "I will evaluate whether the data are opinion messages or not. Example:"
   ]
  },
  {
   "cell_type": "markdown",
   "metadata": {},
   "source": [
    "The sentence \"This is the new Tom Cruise movie\" is not an opinion sentence. Whereas, the sentence \"This new Tom Cruise movie is amazing!\" is an opinion message."
   ]
  },
  {
   "cell_type": "markdown",
   "metadata": {},
   "source": [
    "To do this, I will use the knowledge of the LLM to perform this evaluation."
   ]
  },
  {
   "cell_type": "markdown",
   "metadata": {},
   "source": [
    "A message that is not an opinion is different from a neutral message. A non-opinion message simply states a fact or provides information without expressing a personal judgment or sentiment. On the other hand, a neutral message may contain subjective elements but does not convey a strong positive or negative sentiment. For instance, \"This movie was released in 2023\" is a non-opinion message, while \"The movie is okay\" is a neutral message."
   ]
  },
  {
   "cell_type": "code",
   "execution_count": 4,
   "metadata": {},
   "outputs": [],
   "source": [
    "PROMPT_TEMPLATE = \"\"\"\n",
    "Avalie a seguinte mensagem para determinar se ela expressa uma opinião. \n",
    "Uma mensagem que não é uma opinião é diferente de uma mensagem neutra. \n",
    "Uma mensagem que não é uma opinião simplesmente afirma um fato ou fornece \n",
    "informação sem expressar um julgamento pessoal ou sentimento. Por outro lado, \n",
    "uma mensagem neutra pode conter elementos subjetivos, mas não transmite um \n",
    "sentimento fortemente positivo ou negativo. Por exemplo, \"Este filme foi \n",
    "lançado em 2023\" é uma mensagem que não é uma opinião, enquanto \"O filme é ok\" \n",
    "é uma mensagem neutra.\n",
    "\n",
    "Responda com \"sim\" ou \"não\" apenas.\n",
    "\n",
    "Mensagem: \"{text}\"\n",
    "\"\"\""
   ]
  },
  {
   "cell_type": "code",
   "execution_count": 5,
   "metadata": {},
   "outputs": [],
   "source": [
    "def get_opinion(model, text):\n",
    "    response = ollama.chat(\n",
    "        model=model,\n",
    "        messages=[{\n",
    "            'role': 'user',\n",
    "            'content': PROMPT_TEMPLATE.format(text=text)\n",
    "        }]\n",
    "    )\n",
    "    return response['message']['content'].lower().strip()"
   ]
  },
  {
   "cell_type": "code",
   "execution_count": 6,
   "metadata": {},
   "outputs": [
    {
     "data": {
      "text/html": [
       "<pre style=\"white-space:pre;overflow-x:auto;line-height:normal;font-family:Menlo,'DejaVu Sans Mono',consolas,'Courier New',monospace\"><span style=\"color: #800000; text-decoration-color: #800000; font-weight: bold\">\"Este é o novo filme do Tom Cruise\"</span><span style=\"color: #800000; text-decoration-color: #800000; font-weight: bold\">:</span> não\n",
       "</pre>\n"
      ],
      "text/plain": [
       "\u001b[1;31m\"Este é o novo filme do Tom Cruise\"\u001b[0m\u001b[1;31m:\u001b[0m não\n"
      ]
     },
     "metadata": {},
     "output_type": "display_data"
    },
    {
     "data": {
      "text/html": [
       "<pre style=\"white-space:pre;overflow-x:auto;line-height:normal;font-family:Menlo,'DejaVu Sans Mono',consolas,'Courier New',monospace\"><span style=\"color: #800000; text-decoration-color: #800000; font-weight: bold\">\"Esse novo filme do Tom Cruise é incrível!\"</span><span style=\"color: #800000; text-decoration-color: #800000; font-weight: bold\">:</span> sim\n",
       "</pre>\n"
      ],
      "text/plain": [
       "\u001b[1;31m\"Esse novo filme do Tom Cruise é incrível!\"\u001b[0m\u001b[1;31m:\u001b[0m sim\n"
      ]
     },
     "metadata": {},
     "output_type": "display_data"
    }
   ],
   "source": [
    "examples = [\n",
    "    'Este é o novo filme do Tom Cruise',\n",
    "    'Esse novo filme do Tom Cruise é incrível!',\n",
    "]\n",
    "\n",
    "for e in examples:\n",
    "    p(f'[bold red]\"{e}\":[/bold red] {get_opinion(\"llama3\", e)}')"
   ]
  },
  {
   "cell_type": "code",
   "execution_count": 7,
   "metadata": {},
   "outputs": [],
   "source": [
    "for data in datasets:\n",
    "    df = pd.read_csv(f'../data/opinions/{data}_cachaca.csv')\n",
    "    is_opinative = [\n",
    "        'sim' in get_opinion(\"llama3\", text)\n",
    "        for text in df['text']\n",
    "    ]\n",
    "    p(f'[bold red]Total de mensagens opinativas em {data}:[/bold red] {sum(is_opinative)} / {len(is_opinative)}')\n",
    "    df['is_opinative'] = is_opinative\n",
    "    df.to_csv(f'../data/opinions/{data}_cachaca.csv', index=False)"
   ]
  },
  {
   "cell_type": "markdown",
   "metadata": {},
   "source": [
    "# Results II"
   ]
  },
  {
   "cell_type": "markdown",
   "metadata": {},
   "source": [
    "Results removing non-opinionated sentences."
   ]
  },
  {
   "cell_type": "code",
   "execution_count": 4,
   "metadata": {},
   "outputs": [
    {
     "data": {
      "text/html": [
       "<pre style=\"white-space:pre;overflow-x:auto;line-height:normal;font-family:Menlo,'DejaVu Sans Mono',consolas,'Courier New',monospace\"><span style=\"color: #800000; text-decoration-color: #800000; font-weight: bold\">facebook: llama3</span>\n",
       "</pre>\n"
      ],
      "text/plain": [
       "\u001b[1;31mfacebook: llama3\u001b[0m\n"
      ]
     },
     "metadata": {},
     "output_type": "display_data"
    },
    {
     "data": {
      "text/html": [
       "<pre style=\"white-space:pre;overflow-x:auto;line-height:normal;font-family:Menlo,'DejaVu Sans Mono',consolas,'Courier New',monospace\">              precision    recall  f1-score   support\n",
       "\n",
       "    negative       <span style=\"color: #008080; text-decoration-color: #008080; font-weight: bold\">0.15</span>      <span style=\"color: #008080; text-decoration-color: #008080; font-weight: bold\">0.90</span>      <span style=\"color: #008080; text-decoration-color: #008080; font-weight: bold\">0.26</span>        <span style=\"color: #008080; text-decoration-color: #008080; font-weight: bold\">29</span>\n",
       "     neutral       <span style=\"color: #008080; text-decoration-color: #008080; font-weight: bold\">0.65</span>      <span style=\"color: #008080; text-decoration-color: #008080; font-weight: bold\">0.51</span>      <span style=\"color: #008080; text-decoration-color: #008080; font-weight: bold\">0.57</span>       <span style=\"color: #008080; text-decoration-color: #008080; font-weight: bold\">323</span>\n",
       "    positive       <span style=\"color: #008080; text-decoration-color: #008080; font-weight: bold\">0.83</span>      <span style=\"color: #008080; text-decoration-color: #008080; font-weight: bold\">0.71</span>      <span style=\"color: #008080; text-decoration-color: #008080; font-weight: bold\">0.76</span>       <span style=\"color: #008080; text-decoration-color: #008080; font-weight: bold\">534</span>\n",
       "\n",
       "    accuracy                           <span style=\"color: #008080; text-decoration-color: #008080; font-weight: bold\">0.64</span>       <span style=\"color: #008080; text-decoration-color: #008080; font-weight: bold\">886</span>\n",
       "   macro avg       <span style=\"color: #008080; text-decoration-color: #008080; font-weight: bold\">0.54</span>      <span style=\"color: #008080; text-decoration-color: #008080; font-weight: bold\">0.71</span>      <span style=\"color: #008080; text-decoration-color: #008080; font-weight: bold\">0.53</span>       <span style=\"color: #008080; text-decoration-color: #008080; font-weight: bold\">886</span>\n",
       "weighted avg       <span style=\"color: #008080; text-decoration-color: #008080; font-weight: bold\">0.74</span>      <span style=\"color: #008080; text-decoration-color: #008080; font-weight: bold\">0.64</span>      <span style=\"color: #008080; text-decoration-color: #008080; font-weight: bold\">0.68</span>       <span style=\"color: #008080; text-decoration-color: #008080; font-weight: bold\">886</span>\n",
       "\n",
       "</pre>\n"
      ],
      "text/plain": [
       "              precision    recall  f1-score   support\n",
       "\n",
       "    negative       \u001b[1;36m0.15\u001b[0m      \u001b[1;36m0.90\u001b[0m      \u001b[1;36m0.26\u001b[0m        \u001b[1;36m29\u001b[0m\n",
       "     neutral       \u001b[1;36m0.65\u001b[0m      \u001b[1;36m0.51\u001b[0m      \u001b[1;36m0.57\u001b[0m       \u001b[1;36m323\u001b[0m\n",
       "    positive       \u001b[1;36m0.83\u001b[0m      \u001b[1;36m0.71\u001b[0m      \u001b[1;36m0.76\u001b[0m       \u001b[1;36m534\u001b[0m\n",
       "\n",
       "    accuracy                           \u001b[1;36m0.64\u001b[0m       \u001b[1;36m886\u001b[0m\n",
       "   macro avg       \u001b[1;36m0.54\u001b[0m      \u001b[1;36m0.71\u001b[0m      \u001b[1;36m0.53\u001b[0m       \u001b[1;36m886\u001b[0m\n",
       "weighted avg       \u001b[1;36m0.74\u001b[0m      \u001b[1;36m0.64\u001b[0m      \u001b[1;36m0.68\u001b[0m       \u001b[1;36m886\u001b[0m\n",
       "\n"
      ]
     },
     "metadata": {},
     "output_type": "display_data"
    },
    {
     "data": {
      "text/html": [
       "<pre style=\"white-space:pre;overflow-x:auto;line-height:normal;font-family:Menlo,'DejaVu Sans Mono',consolas,'Courier New',monospace\"><span style=\"color: #800000; text-decoration-color: #800000; font-weight: bold\">facebook: mistral</span>\n",
       "</pre>\n"
      ],
      "text/plain": [
       "\u001b[1;31mfacebook: mistral\u001b[0m\n"
      ]
     },
     "metadata": {},
     "output_type": "display_data"
    },
    {
     "data": {
      "text/html": [
       "<pre style=\"white-space:pre;overflow-x:auto;line-height:normal;font-family:Menlo,'DejaVu Sans Mono',consolas,'Courier New',monospace\">              precision    recall  f1-score   support\n",
       "\n",
       "    negative       <span style=\"color: #008080; text-decoration-color: #008080; font-weight: bold\">0.22</span>      <span style=\"color: #008080; text-decoration-color: #008080; font-weight: bold\">0.79</span>      <span style=\"color: #008080; text-decoration-color: #008080; font-weight: bold\">0.35</span>        <span style=\"color: #008080; text-decoration-color: #008080; font-weight: bold\">29</span>\n",
       "     neutral       <span style=\"color: #008080; text-decoration-color: #008080; font-weight: bold\">0.66</span>      <span style=\"color: #008080; text-decoration-color: #008080; font-weight: bold\">0.50</span>      <span style=\"color: #008080; text-decoration-color: #008080; font-weight: bold\">0.57</span>       <span style=\"color: #008080; text-decoration-color: #008080; font-weight: bold\">323</span>\n",
       "    positive       <span style=\"color: #008080; text-decoration-color: #008080; font-weight: bold\">0.77</span>      <span style=\"color: #008080; text-decoration-color: #008080; font-weight: bold\">0.78</span>      <span style=\"color: #008080; text-decoration-color: #008080; font-weight: bold\">0.78</span>       <span style=\"color: #008080; text-decoration-color: #008080; font-weight: bold\">534</span>\n",
       "\n",
       "    accuracy                           <span style=\"color: #008080; text-decoration-color: #008080; font-weight: bold\">0.68</span>       <span style=\"color: #008080; text-decoration-color: #008080; font-weight: bold\">886</span>\n",
       "   macro avg       <span style=\"color: #008080; text-decoration-color: #008080; font-weight: bold\">0.55</span>      <span style=\"color: #008080; text-decoration-color: #008080; font-weight: bold\">0.69</span>      <span style=\"color: #008080; text-decoration-color: #008080; font-weight: bold\">0.56</span>       <span style=\"color: #008080; text-decoration-color: #008080; font-weight: bold\">886</span>\n",
       "weighted avg       <span style=\"color: #008080; text-decoration-color: #008080; font-weight: bold\">0.71</span>      <span style=\"color: #008080; text-decoration-color: #008080; font-weight: bold\">0.68</span>      <span style=\"color: #008080; text-decoration-color: #008080; font-weight: bold\">0.69</span>       <span style=\"color: #008080; text-decoration-color: #008080; font-weight: bold\">886</span>\n",
       "\n",
       "</pre>\n"
      ],
      "text/plain": [
       "              precision    recall  f1-score   support\n",
       "\n",
       "    negative       \u001b[1;36m0.22\u001b[0m      \u001b[1;36m0.79\u001b[0m      \u001b[1;36m0.35\u001b[0m        \u001b[1;36m29\u001b[0m\n",
       "     neutral       \u001b[1;36m0.66\u001b[0m      \u001b[1;36m0.50\u001b[0m      \u001b[1;36m0.57\u001b[0m       \u001b[1;36m323\u001b[0m\n",
       "    positive       \u001b[1;36m0.77\u001b[0m      \u001b[1;36m0.78\u001b[0m      \u001b[1;36m0.78\u001b[0m       \u001b[1;36m534\u001b[0m\n",
       "\n",
       "    accuracy                           \u001b[1;36m0.68\u001b[0m       \u001b[1;36m886\u001b[0m\n",
       "   macro avg       \u001b[1;36m0.55\u001b[0m      \u001b[1;36m0.69\u001b[0m      \u001b[1;36m0.56\u001b[0m       \u001b[1;36m886\u001b[0m\n",
       "weighted avg       \u001b[1;36m0.71\u001b[0m      \u001b[1;36m0.68\u001b[0m      \u001b[1;36m0.69\u001b[0m       \u001b[1;36m886\u001b[0m\n",
       "\n"
      ]
     },
     "metadata": {},
     "output_type": "display_data"
    },
    {
     "data": {
      "text/html": [
       "<pre style=\"white-space:pre;overflow-x:auto;line-height:normal;font-family:Menlo,'DejaVu Sans Mono',consolas,'Courier New',monospace\"><span style=\"color: #800000; text-decoration-color: #800000; font-weight: bold\">facebook: gemma2</span>\n",
       "</pre>\n"
      ],
      "text/plain": [
       "\u001b[1;31mfacebook: gemma2\u001b[0m\n"
      ]
     },
     "metadata": {},
     "output_type": "display_data"
    },
    {
     "data": {
      "text/html": [
       "<pre style=\"white-space:pre;overflow-x:auto;line-height:normal;font-family:Menlo,'DejaVu Sans Mono',consolas,'Courier New',monospace\">              precision    recall  f1-score   support\n",
       "\n",
       "    negative       <span style=\"color: #008080; text-decoration-color: #008080; font-weight: bold\">0.29</span>      <span style=\"color: #008080; text-decoration-color: #008080; font-weight: bold\">0.83</span>      <span style=\"color: #008080; text-decoration-color: #008080; font-weight: bold\">0.43</span>        <span style=\"color: #008080; text-decoration-color: #008080; font-weight: bold\">29</span>\n",
       "     neutral       <span style=\"color: #008080; text-decoration-color: #008080; font-weight: bold\">0.73</span>      <span style=\"color: #008080; text-decoration-color: #008080; font-weight: bold\">0.60</span>      <span style=\"color: #008080; text-decoration-color: #008080; font-weight: bold\">0.66</span>       <span style=\"color: #008080; text-decoration-color: #008080; font-weight: bold\">323</span>\n",
       "    positive       <span style=\"color: #008080; text-decoration-color: #008080; font-weight: bold\">0.82</span>      <span style=\"color: #008080; text-decoration-color: #008080; font-weight: bold\">0.83</span>      <span style=\"color: #008080; text-decoration-color: #008080; font-weight: bold\">0.82</span>       <span style=\"color: #008080; text-decoration-color: #008080; font-weight: bold\">534</span>\n",
       "\n",
       "    accuracy                           <span style=\"color: #008080; text-decoration-color: #008080; font-weight: bold\">0.74</span>       <span style=\"color: #008080; text-decoration-color: #008080; font-weight: bold\">886</span>\n",
       "   macro avg       <span style=\"color: #008080; text-decoration-color: #008080; font-weight: bold\">0.61</span>      <span style=\"color: #008080; text-decoration-color: #008080; font-weight: bold\">0.75</span>      <span style=\"color: #008080; text-decoration-color: #008080; font-weight: bold\">0.64</span>       <span style=\"color: #008080; text-decoration-color: #008080; font-weight: bold\">886</span>\n",
       "weighted avg       <span style=\"color: #008080; text-decoration-color: #008080; font-weight: bold\">0.77</span>      <span style=\"color: #008080; text-decoration-color: #008080; font-weight: bold\">0.74</span>      <span style=\"color: #008080; text-decoration-color: #008080; font-weight: bold\">0.75</span>       <span style=\"color: #008080; text-decoration-color: #008080; font-weight: bold\">886</span>\n",
       "\n",
       "</pre>\n"
      ],
      "text/plain": [
       "              precision    recall  f1-score   support\n",
       "\n",
       "    negative       \u001b[1;36m0.29\u001b[0m      \u001b[1;36m0.83\u001b[0m      \u001b[1;36m0.43\u001b[0m        \u001b[1;36m29\u001b[0m\n",
       "     neutral       \u001b[1;36m0.73\u001b[0m      \u001b[1;36m0.60\u001b[0m      \u001b[1;36m0.66\u001b[0m       \u001b[1;36m323\u001b[0m\n",
       "    positive       \u001b[1;36m0.82\u001b[0m      \u001b[1;36m0.83\u001b[0m      \u001b[1;36m0.82\u001b[0m       \u001b[1;36m534\u001b[0m\n",
       "\n",
       "    accuracy                           \u001b[1;36m0.74\u001b[0m       \u001b[1;36m886\u001b[0m\n",
       "   macro avg       \u001b[1;36m0.61\u001b[0m      \u001b[1;36m0.75\u001b[0m      \u001b[1;36m0.64\u001b[0m       \u001b[1;36m886\u001b[0m\n",
       "weighted avg       \u001b[1;36m0.77\u001b[0m      \u001b[1;36m0.74\u001b[0m      \u001b[1;36m0.75\u001b[0m       \u001b[1;36m886\u001b[0m\n",
       "\n"
      ]
     },
     "metadata": {},
     "output_type": "display_data"
    },
    {
     "data": {
      "text/html": [
       "<pre style=\"white-space:pre;overflow-x:auto;line-height:normal;font-family:Menlo,'DejaVu Sans Mono',consolas,'Courier New',monospace\"><span style=\"color: #800000; text-decoration-color: #800000; font-weight: bold\">facebook: gpt-</span><span style=\"color: #800000; text-decoration-color: #800000; font-weight: bold\">3.5</span><span style=\"color: #800000; text-decoration-color: #800000; font-weight: bold\">-turbo-</span><span style=\"color: #800000; text-decoration-color: #800000; font-weight: bold\">0125</span>\n",
       "</pre>\n"
      ],
      "text/plain": [
       "\u001b[1;31mfacebook: gpt-\u001b[0m\u001b[1;31m3.5\u001b[0m\u001b[1;31m-turbo-\u001b[0m\u001b[1;31m0125\u001b[0m\n"
      ]
     },
     "metadata": {},
     "output_type": "display_data"
    },
    {
     "data": {
      "text/html": [
       "<pre style=\"white-space:pre;overflow-x:auto;line-height:normal;font-family:Menlo,'DejaVu Sans Mono',consolas,'Courier New',monospace\">              precision    recall  f1-score   support\n",
       "\n",
       "    negative       <span style=\"color: #008080; text-decoration-color: #008080; font-weight: bold\">0.27</span>      <span style=\"color: #008080; text-decoration-color: #008080; font-weight: bold\">0.86</span>      <span style=\"color: #008080; text-decoration-color: #008080; font-weight: bold\">0.41</span>        <span style=\"color: #008080; text-decoration-color: #008080; font-weight: bold\">29</span>\n",
       "     neutral       <span style=\"color: #008080; text-decoration-color: #008080; font-weight: bold\">0.67</span>      <span style=\"color: #008080; text-decoration-color: #008080; font-weight: bold\">0.63</span>      <span style=\"color: #008080; text-decoration-color: #008080; font-weight: bold\">0.65</span>       <span style=\"color: #008080; text-decoration-color: #008080; font-weight: bold\">323</span>\n",
       "    positive       <span style=\"color: #008080; text-decoration-color: #008080; font-weight: bold\">0.84</span>      <span style=\"color: #008080; text-decoration-color: #008080; font-weight: bold\">0.77</span>      <span style=\"color: #008080; text-decoration-color: #008080; font-weight: bold\">0.80</span>       <span style=\"color: #008080; text-decoration-color: #008080; font-weight: bold\">534</span>\n",
       "\n",
       "    accuracy                           <span style=\"color: #008080; text-decoration-color: #008080; font-weight: bold\">0.72</span>       <span style=\"color: #008080; text-decoration-color: #008080; font-weight: bold\">886</span>\n",
       "   macro avg       <span style=\"color: #008080; text-decoration-color: #008080; font-weight: bold\">0.59</span>      <span style=\"color: #008080; text-decoration-color: #008080; font-weight: bold\">0.75</span>      <span style=\"color: #008080; text-decoration-color: #008080; font-weight: bold\">0.62</span>       <span style=\"color: #008080; text-decoration-color: #008080; font-weight: bold\">886</span>\n",
       "weighted avg       <span style=\"color: #008080; text-decoration-color: #008080; font-weight: bold\">0.76</span>      <span style=\"color: #008080; text-decoration-color: #008080; font-weight: bold\">0.72</span>      <span style=\"color: #008080; text-decoration-color: #008080; font-weight: bold\">0.73</span>       <span style=\"color: #008080; text-decoration-color: #008080; font-weight: bold\">886</span>\n",
       "\n",
       "</pre>\n"
      ],
      "text/plain": [
       "              precision    recall  f1-score   support\n",
       "\n",
       "    negative       \u001b[1;36m0.27\u001b[0m      \u001b[1;36m0.86\u001b[0m      \u001b[1;36m0.41\u001b[0m        \u001b[1;36m29\u001b[0m\n",
       "     neutral       \u001b[1;36m0.67\u001b[0m      \u001b[1;36m0.63\u001b[0m      \u001b[1;36m0.65\u001b[0m       \u001b[1;36m323\u001b[0m\n",
       "    positive       \u001b[1;36m0.84\u001b[0m      \u001b[1;36m0.77\u001b[0m      \u001b[1;36m0.80\u001b[0m       \u001b[1;36m534\u001b[0m\n",
       "\n",
       "    accuracy                           \u001b[1;36m0.72\u001b[0m       \u001b[1;36m886\u001b[0m\n",
       "   macro avg       \u001b[1;36m0.59\u001b[0m      \u001b[1;36m0.75\u001b[0m      \u001b[1;36m0.62\u001b[0m       \u001b[1;36m886\u001b[0m\n",
       "weighted avg       \u001b[1;36m0.76\u001b[0m      \u001b[1;36m0.72\u001b[0m      \u001b[1;36m0.73\u001b[0m       \u001b[1;36m886\u001b[0m\n",
       "\n"
      ]
     },
     "metadata": {},
     "output_type": "display_data"
    },
    {
     "data": {
      "text/html": [
       "<pre style=\"white-space:pre;overflow-x:auto;line-height:normal;font-family:Menlo,'DejaVu Sans Mono',consolas,'Courier New',monospace\"><span style=\"color: #800000; text-decoration-color: #800000; font-weight: bold\">twitter: llama3</span>\n",
       "</pre>\n"
      ],
      "text/plain": [
       "\u001b[1;31mtwitter: llama3\u001b[0m\n"
      ]
     },
     "metadata": {},
     "output_type": "display_data"
    },
    {
     "data": {
      "text/html": [
       "<pre style=\"white-space:pre;overflow-x:auto;line-height:normal;font-family:Menlo,'DejaVu Sans Mono',consolas,'Courier New',monospace\">              precision    recall  f1-score   support\n",
       "\n",
       "    negative       <span style=\"color: #008080; text-decoration-color: #008080; font-weight: bold\">0.22</span>      <span style=\"color: #008080; text-decoration-color: #008080; font-weight: bold\">0.78</span>      <span style=\"color: #008080; text-decoration-color: #008080; font-weight: bold\">0.34</span>        <span style=\"color: #008080; text-decoration-color: #008080; font-weight: bold\">18</span>\n",
       "     neutral       <span style=\"color: #008080; text-decoration-color: #008080; font-weight: bold\">0.92</span>      <span style=\"color: #008080; text-decoration-color: #008080; font-weight: bold\">0.20</span>      <span style=\"color: #008080; text-decoration-color: #008080; font-weight: bold\">0.33</span>       <span style=\"color: #008080; text-decoration-color: #008080; font-weight: bold\">380</span>\n",
       "    positive       <span style=\"color: #008080; text-decoration-color: #008080; font-weight: bold\">0.23</span>      <span style=\"color: #008080; text-decoration-color: #008080; font-weight: bold\">0.87</span>      <span style=\"color: #008080; text-decoration-color: #008080; font-weight: bold\">0.36</span>        <span style=\"color: #008080; text-decoration-color: #008080; font-weight: bold\">90</span>\n",
       "\n",
       "    accuracy                           <span style=\"color: #008080; text-decoration-color: #008080; font-weight: bold\">0.35</span>       <span style=\"color: #008080; text-decoration-color: #008080; font-weight: bold\">488</span>\n",
       "   macro avg       <span style=\"color: #008080; text-decoration-color: #008080; font-weight: bold\">0.45</span>      <span style=\"color: #008080; text-decoration-color: #008080; font-weight: bold\">0.62</span>      <span style=\"color: #008080; text-decoration-color: #008080; font-weight: bold\">0.34</span>       <span style=\"color: #008080; text-decoration-color: #008080; font-weight: bold\">488</span>\n",
       "weighted avg       <span style=\"color: #008080; text-decoration-color: #008080; font-weight: bold\">0.76</span>      <span style=\"color: #008080; text-decoration-color: #008080; font-weight: bold\">0.35</span>      <span style=\"color: #008080; text-decoration-color: #008080; font-weight: bold\">0.34</span>       <span style=\"color: #008080; text-decoration-color: #008080; font-weight: bold\">488</span>\n",
       "\n",
       "</pre>\n"
      ],
      "text/plain": [
       "              precision    recall  f1-score   support\n",
       "\n",
       "    negative       \u001b[1;36m0.22\u001b[0m      \u001b[1;36m0.78\u001b[0m      \u001b[1;36m0.34\u001b[0m        \u001b[1;36m18\u001b[0m\n",
       "     neutral       \u001b[1;36m0.92\u001b[0m      \u001b[1;36m0.20\u001b[0m      \u001b[1;36m0.33\u001b[0m       \u001b[1;36m380\u001b[0m\n",
       "    positive       \u001b[1;36m0.23\u001b[0m      \u001b[1;36m0.87\u001b[0m      \u001b[1;36m0.36\u001b[0m        \u001b[1;36m90\u001b[0m\n",
       "\n",
       "    accuracy                           \u001b[1;36m0.35\u001b[0m       \u001b[1;36m488\u001b[0m\n",
       "   macro avg       \u001b[1;36m0.45\u001b[0m      \u001b[1;36m0.62\u001b[0m      \u001b[1;36m0.34\u001b[0m       \u001b[1;36m488\u001b[0m\n",
       "weighted avg       \u001b[1;36m0.76\u001b[0m      \u001b[1;36m0.35\u001b[0m      \u001b[1;36m0.34\u001b[0m       \u001b[1;36m488\u001b[0m\n",
       "\n"
      ]
     },
     "metadata": {},
     "output_type": "display_data"
    },
    {
     "data": {
      "text/html": [
       "<pre style=\"white-space:pre;overflow-x:auto;line-height:normal;font-family:Menlo,'DejaVu Sans Mono',consolas,'Courier New',monospace\"><span style=\"color: #800000; text-decoration-color: #800000; font-weight: bold\">twitter: mistral</span>\n",
       "</pre>\n"
      ],
      "text/plain": [
       "\u001b[1;31mtwitter: mistral\u001b[0m\n"
      ]
     },
     "metadata": {},
     "output_type": "display_data"
    },
    {
     "data": {
      "text/html": [
       "<pre style=\"white-space:pre;overflow-x:auto;line-height:normal;font-family:Menlo,'DejaVu Sans Mono',consolas,'Courier New',monospace\">              precision    recall  f1-score   support\n",
       "\n",
       "    negative       <span style=\"color: #008080; text-decoration-color: #008080; font-weight: bold\">0.20</span>      <span style=\"color: #008080; text-decoration-color: #008080; font-weight: bold\">0.67</span>      <span style=\"color: #008080; text-decoration-color: #008080; font-weight: bold\">0.30</span>        <span style=\"color: #008080; text-decoration-color: #008080; font-weight: bold\">18</span>\n",
       "     neutral       <span style=\"color: #008080; text-decoration-color: #008080; font-weight: bold\">0.94</span>      <span style=\"color: #008080; text-decoration-color: #008080; font-weight: bold\">0.12</span>      <span style=\"color: #008080; text-decoration-color: #008080; font-weight: bold\">0.21</span>       <span style=\"color: #008080; text-decoration-color: #008080; font-weight: bold\">380</span>\n",
       "    positive       <span style=\"color: #008080; text-decoration-color: #008080; font-weight: bold\">0.21</span>      <span style=\"color: #008080; text-decoration-color: #008080; font-weight: bold\">0.90</span>      <span style=\"color: #008080; text-decoration-color: #008080; font-weight: bold\">0.35</span>        <span style=\"color: #008080; text-decoration-color: #008080; font-weight: bold\">90</span>\n",
       "\n",
       "    accuracy                           <span style=\"color: #008080; text-decoration-color: #008080; font-weight: bold\">0.28</span>       <span style=\"color: #008080; text-decoration-color: #008080; font-weight: bold\">488</span>\n",
       "   macro avg       <span style=\"color: #008080; text-decoration-color: #008080; font-weight: bold\">0.45</span>      <span style=\"color: #008080; text-decoration-color: #008080; font-weight: bold\">0.56</span>      <span style=\"color: #008080; text-decoration-color: #008080; font-weight: bold\">0.29</span>       <span style=\"color: #008080; text-decoration-color: #008080; font-weight: bold\">488</span>\n",
       "weighted avg       <span style=\"color: #008080; text-decoration-color: #008080; font-weight: bold\">0.78</span>      <span style=\"color: #008080; text-decoration-color: #008080; font-weight: bold\">0.28</span>      <span style=\"color: #008080; text-decoration-color: #008080; font-weight: bold\">0.24</span>       <span style=\"color: #008080; text-decoration-color: #008080; font-weight: bold\">488</span>\n",
       "\n",
       "</pre>\n"
      ],
      "text/plain": [
       "              precision    recall  f1-score   support\n",
       "\n",
       "    negative       \u001b[1;36m0.20\u001b[0m      \u001b[1;36m0.67\u001b[0m      \u001b[1;36m0.30\u001b[0m        \u001b[1;36m18\u001b[0m\n",
       "     neutral       \u001b[1;36m0.94\u001b[0m      \u001b[1;36m0.12\u001b[0m      \u001b[1;36m0.21\u001b[0m       \u001b[1;36m380\u001b[0m\n",
       "    positive       \u001b[1;36m0.21\u001b[0m      \u001b[1;36m0.90\u001b[0m      \u001b[1;36m0.35\u001b[0m        \u001b[1;36m90\u001b[0m\n",
       "\n",
       "    accuracy                           \u001b[1;36m0.28\u001b[0m       \u001b[1;36m488\u001b[0m\n",
       "   macro avg       \u001b[1;36m0.45\u001b[0m      \u001b[1;36m0.56\u001b[0m      \u001b[1;36m0.29\u001b[0m       \u001b[1;36m488\u001b[0m\n",
       "weighted avg       \u001b[1;36m0.78\u001b[0m      \u001b[1;36m0.28\u001b[0m      \u001b[1;36m0.24\u001b[0m       \u001b[1;36m488\u001b[0m\n",
       "\n"
      ]
     },
     "metadata": {},
     "output_type": "display_data"
    },
    {
     "data": {
      "text/html": [
       "<pre style=\"white-space:pre;overflow-x:auto;line-height:normal;font-family:Menlo,'DejaVu Sans Mono',consolas,'Courier New',monospace\"><span style=\"color: #800000; text-decoration-color: #800000; font-weight: bold\">twitter: gemma2</span>\n",
       "</pre>\n"
      ],
      "text/plain": [
       "\u001b[1;31mtwitter: gemma2\u001b[0m\n"
      ]
     },
     "metadata": {},
     "output_type": "display_data"
    },
    {
     "data": {
      "text/html": [
       "<pre style=\"white-space:pre;overflow-x:auto;line-height:normal;font-family:Menlo,'DejaVu Sans Mono',consolas,'Courier New',monospace\">              precision    recall  f1-score   support\n",
       "\n",
       "    negative       <span style=\"color: #008080; text-decoration-color: #008080; font-weight: bold\">0.31</span>      <span style=\"color: #008080; text-decoration-color: #008080; font-weight: bold\">0.50</span>      <span style=\"color: #008080; text-decoration-color: #008080; font-weight: bold\">0.38</span>        <span style=\"color: #008080; text-decoration-color: #008080; font-weight: bold\">18</span>\n",
       "     neutral       <span style=\"color: #008080; text-decoration-color: #008080; font-weight: bold\">0.91</span>      <span style=\"color: #008080; text-decoration-color: #008080; font-weight: bold\">0.16</span>      <span style=\"color: #008080; text-decoration-color: #008080; font-weight: bold\">0.27</span>       <span style=\"color: #008080; text-decoration-color: #008080; font-weight: bold\">380</span>\n",
       "    positive       <span style=\"color: #008080; text-decoration-color: #008080; font-weight: bold\">0.22</span>      <span style=\"color: #008080; text-decoration-color: #008080; font-weight: bold\">0.97</span>      <span style=\"color: #008080; text-decoration-color: #008080; font-weight: bold\">0.36</span>        <span style=\"color: #008080; text-decoration-color: #008080; font-weight: bold\">90</span>\n",
       "\n",
       "    accuracy                           <span style=\"color: #008080; text-decoration-color: #008080; font-weight: bold\">0.32</span>       <span style=\"color: #008080; text-decoration-color: #008080; font-weight: bold\">488</span>\n",
       "   macro avg       <span style=\"color: #008080; text-decoration-color: #008080; font-weight: bold\">0.48</span>      <span style=\"color: #008080; text-decoration-color: #008080; font-weight: bold\">0.54</span>      <span style=\"color: #008080; text-decoration-color: #008080; font-weight: bold\">0.34</span>       <span style=\"color: #008080; text-decoration-color: #008080; font-weight: bold\">488</span>\n",
       "weighted avg       <span style=\"color: #008080; text-decoration-color: #008080; font-weight: bold\">0.76</span>      <span style=\"color: #008080; text-decoration-color: #008080; font-weight: bold\">0.32</span>      <span style=\"color: #008080; text-decoration-color: #008080; font-weight: bold\">0.29</span>       <span style=\"color: #008080; text-decoration-color: #008080; font-weight: bold\">488</span>\n",
       "\n",
       "</pre>\n"
      ],
      "text/plain": [
       "              precision    recall  f1-score   support\n",
       "\n",
       "    negative       \u001b[1;36m0.31\u001b[0m      \u001b[1;36m0.50\u001b[0m      \u001b[1;36m0.38\u001b[0m        \u001b[1;36m18\u001b[0m\n",
       "     neutral       \u001b[1;36m0.91\u001b[0m      \u001b[1;36m0.16\u001b[0m      \u001b[1;36m0.27\u001b[0m       \u001b[1;36m380\u001b[0m\n",
       "    positive       \u001b[1;36m0.22\u001b[0m      \u001b[1;36m0.97\u001b[0m      \u001b[1;36m0.36\u001b[0m        \u001b[1;36m90\u001b[0m\n",
       "\n",
       "    accuracy                           \u001b[1;36m0.32\u001b[0m       \u001b[1;36m488\u001b[0m\n",
       "   macro avg       \u001b[1;36m0.48\u001b[0m      \u001b[1;36m0.54\u001b[0m      \u001b[1;36m0.34\u001b[0m       \u001b[1;36m488\u001b[0m\n",
       "weighted avg       \u001b[1;36m0.76\u001b[0m      \u001b[1;36m0.32\u001b[0m      \u001b[1;36m0.29\u001b[0m       \u001b[1;36m488\u001b[0m\n",
       "\n"
      ]
     },
     "metadata": {},
     "output_type": "display_data"
    },
    {
     "data": {
      "text/html": [
       "<pre style=\"white-space:pre;overflow-x:auto;line-height:normal;font-family:Menlo,'DejaVu Sans Mono',consolas,'Courier New',monospace\"><span style=\"color: #800000; text-decoration-color: #800000; font-weight: bold\">twitter: gpt-</span><span style=\"color: #800000; text-decoration-color: #800000; font-weight: bold\">3.5</span><span style=\"color: #800000; text-decoration-color: #800000; font-weight: bold\">-turbo-</span><span style=\"color: #800000; text-decoration-color: #800000; font-weight: bold\">0125</span>\n",
       "</pre>\n"
      ],
      "text/plain": [
       "\u001b[1;31mtwitter: gpt-\u001b[0m\u001b[1;31m3.5\u001b[0m\u001b[1;31m-turbo-\u001b[0m\u001b[1;31m0125\u001b[0m\n"
      ]
     },
     "metadata": {},
     "output_type": "display_data"
    },
    {
     "data": {
      "text/html": [
       "<pre style=\"white-space:pre;overflow-x:auto;line-height:normal;font-family:Menlo,'DejaVu Sans Mono',consolas,'Courier New',monospace\">              precision    recall  f1-score   support\n",
       "\n",
       "    negative       <span style=\"color: #008080; text-decoration-color: #008080; font-weight: bold\">0.23</span>      <span style=\"color: #008080; text-decoration-color: #008080; font-weight: bold\">0.78</span>      <span style=\"color: #008080; text-decoration-color: #008080; font-weight: bold\">0.35</span>        <span style=\"color: #008080; text-decoration-color: #008080; font-weight: bold\">18</span>\n",
       "     neutral       <span style=\"color: #008080; text-decoration-color: #008080; font-weight: bold\">0.89</span>      <span style=\"color: #008080; text-decoration-color: #008080; font-weight: bold\">0.25</span>      <span style=\"color: #008080; text-decoration-color: #008080; font-weight: bold\">0.39</span>       <span style=\"color: #008080; text-decoration-color: #008080; font-weight: bold\">380</span>\n",
       "    positive       <span style=\"color: #008080; text-decoration-color: #008080; font-weight: bold\">0.23</span>      <span style=\"color: #008080; text-decoration-color: #008080; font-weight: bold\">0.82</span>      <span style=\"color: #008080; text-decoration-color: #008080; font-weight: bold\">0.36</span>        <span style=\"color: #008080; text-decoration-color: #008080; font-weight: bold\">90</span>\n",
       "\n",
       "    accuracy                           <span style=\"color: #008080; text-decoration-color: #008080; font-weight: bold\">0.38</span>       <span style=\"color: #008080; text-decoration-color: #008080; font-weight: bold\">488</span>\n",
       "   macro avg       <span style=\"color: #008080; text-decoration-color: #008080; font-weight: bold\">0.45</span>      <span style=\"color: #008080; text-decoration-color: #008080; font-weight: bold\">0.62</span>      <span style=\"color: #008080; text-decoration-color: #008080; font-weight: bold\">0.37</span>       <span style=\"color: #008080; text-decoration-color: #008080; font-weight: bold\">488</span>\n",
       "weighted avg       <span style=\"color: #008080; text-decoration-color: #008080; font-weight: bold\">0.74</span>      <span style=\"color: #008080; text-decoration-color: #008080; font-weight: bold\">0.38</span>      <span style=\"color: #008080; text-decoration-color: #008080; font-weight: bold\">0.38</span>       <span style=\"color: #008080; text-decoration-color: #008080; font-weight: bold\">488</span>\n",
       "\n",
       "</pre>\n"
      ],
      "text/plain": [
       "              precision    recall  f1-score   support\n",
       "\n",
       "    negative       \u001b[1;36m0.23\u001b[0m      \u001b[1;36m0.78\u001b[0m      \u001b[1;36m0.35\u001b[0m        \u001b[1;36m18\u001b[0m\n",
       "     neutral       \u001b[1;36m0.89\u001b[0m      \u001b[1;36m0.25\u001b[0m      \u001b[1;36m0.39\u001b[0m       \u001b[1;36m380\u001b[0m\n",
       "    positive       \u001b[1;36m0.23\u001b[0m      \u001b[1;36m0.82\u001b[0m      \u001b[1;36m0.36\u001b[0m        \u001b[1;36m90\u001b[0m\n",
       "\n",
       "    accuracy                           \u001b[1;36m0.38\u001b[0m       \u001b[1;36m488\u001b[0m\n",
       "   macro avg       \u001b[1;36m0.45\u001b[0m      \u001b[1;36m0.62\u001b[0m      \u001b[1;36m0.37\u001b[0m       \u001b[1;36m488\u001b[0m\n",
       "weighted avg       \u001b[1;36m0.74\u001b[0m      \u001b[1;36m0.38\u001b[0m      \u001b[1;36m0.38\u001b[0m       \u001b[1;36m488\u001b[0m\n",
       "\n"
      ]
     },
     "metadata": {},
     "output_type": "display_data"
    }
   ],
   "source": [
    "datasets = ('facebook', 'twitter')\n",
    "for data in datasets:\n",
    "    df = pd.read_csv(f'../data/opinions/{data}_cachaca.csv')\n",
    "    df = df[df.is_opinative == True]\n",
    "    for model in models:\n",
    "        y_true, y_pred = df['labels'], df[model]\n",
    "        p(f'[bold red]{data}: {model}[/bold red]')\n",
    "        p(classification_report(y_true, y_pred))"
   ]
  }
 ],
 "metadata": {
  "kernelspec": {
   "display_name": "scarticle",
   "language": "python",
   "name": "python3"
  },
  "language_info": {
   "codemirror_mode": {
    "name": "ipython",
    "version": 3
   },
   "file_extension": ".py",
   "mimetype": "text/x-python",
   "name": "python",
   "nbconvert_exporter": "python",
   "pygments_lexer": "ipython3",
   "version": "3.11.6"
  }
 },
 "nbformat": 4,
 "nbformat_minor": 2
}
