{
 "cells": [
  {
   "cell_type": "code",
   "execution_count": null,
   "metadata": {},
   "outputs": [],
   "source": [
    "import ollama\n",
    "import pandas as pd\n",
    "from tqdm.notebook import tqdm"
   ]
  },
  {
   "cell_type": "code",
   "execution_count": null,
   "metadata": {},
   "outputs": [],
   "source": [
    "PROMPT = \"\"\"\n",
    "A sentença a seguir foi retirada do facebook, e o tema principal é sobre cachaça.\n",
    "Não necessariamente o tema está em evidência e explícito. Você irá indicar com um \"False\" se \n",
    "a sentença não tem nada a ver com o tema cachaça, ou o local que vende cachaça,\n",
    "mesmo que indiretamente e \"True\" se for relacionado, mesmo que indiretamente. Se estiver com\n",
    "dúvida, responda com \"None\". A sentença pode conter figuras de linguagem, atente-se\n",
    "a isso.\n",
    "\n",
    "Sentença: {text}\n",
    "\n",
    "Reponder apenas com \"False\", \"True\" e \"None\":\n",
    "\"\"\""
   ]
  },
  {
   "cell_type": "code",
   "execution_count": null,
   "metadata": {},
   "outputs": [],
   "source": [
    "def get_opinion_ollama(model, text):\n",
    "    response = ollama.chat(\n",
    "        model=model,\n",
    "        messages=[{\n",
    "            'role': 'user',\n",
    "            'content': PROMPT.format(text=text)\n",
    "        }]\n",
    "    )\n",
    "    return response['message']['content'].lower().strip()"
   ]
  },
  {
   "cell_type": "code",
   "execution_count": null,
   "metadata": {},
   "outputs": [],
   "source": [
    "opinions = {}\n",
    "for data in ('twitter', 'facebook'):\n",
    "    df = pd.read_csv(f'../data/opinions/{data}_cachaca.csv')\n",
    "    tmp = []\n",
    "    for text in tqdm(df.text):\n",
    "        tmp.append(get_opinion_ollama('llama3', text))\n",
    "    df['cachaca'] = tmp\n",
    "    df.to_csv(f'../data/opinions/{data}_cachaca.csv', index=False)"
   ]
  }
 ],
 "metadata": {
  "kernelspec": {
   "display_name": "scarticle",
   "language": "python",
   "name": "python3"
  },
  "language_info": {
   "codemirror_mode": {
    "name": "ipython",
    "version": 3
   },
   "file_extension": ".py",
   "mimetype": "text/x-python",
   "name": "python",
   "nbconvert_exporter": "python",
   "pygments_lexer": "ipython3",
   "version": "3.11.6"
  }
 },
 "nbformat": 4,
 "nbformat_minor": 2
}
