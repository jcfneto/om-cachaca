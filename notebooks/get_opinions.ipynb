{
 "cells": [
  {
   "cell_type": "code",
   "execution_count": null,
   "metadata": {},
   "outputs": [],
   "source": [
    "from dotenv import load_dotenv\n",
    "import ollama\n",
    "from openai import OpenAI\n",
    "import pandas as pd\n",
    "from tqdm.notebook import tqdm\n",
    "from rich import print as p\n",
    "\n",
    "load_dotenv()"
   ]
  },
  {
   "cell_type": "code",
   "execution_count": null,
   "metadata": {},
   "outputs": [],
   "source": [
    "client = OpenAI()"
   ]
  },
  {
   "cell_type": "code",
   "execution_count": null,
   "metadata": {},
   "outputs": [],
   "source": [
    "COLS_TO_KEEP = ['text', 'labels_int']\n",
    "\n",
    "ID_TO_CAT = {\n",
    "    0.: 'negative',\n",
    "    1.: 'neutral',\n",
    "    2.: 'positive'\n",
    "}\n",
    "\n",
    "PROMPT_TEMPLATE = \"\"\"\n",
    "Você é um modelo de linguagem treinado para analisar sentenças e classificá-las \n",
    "como positivas, neutras ou negativas. Vou fornecer uma sentença, e você precisa \n",
    "retornar apenas uma das seguintes categorias: positive, neutral ou negative.\n",
    "\n",
    "Sentença: {text}\n",
    "\n",
    "Resposta com apenas uma palavra:\n",
    "\"\"\""
   ]
  },
  {
   "cell_type": "code",
   "execution_count": null,
   "metadata": {},
   "outputs": [],
   "source": [
    "def id_to_categorical(data, id_col):\n",
    "    data['labels'] = data[id_col].map(ID_TO_CAT)\n",
    "    return data\n",
    "\n",
    "\n",
    "def get_opinion_openai(text):\n",
    "    response = client.chat.completions.create(\n",
    "        model='gpt-3.5-turbo-0125',\n",
    "        messages=[{\n",
    "            'role': 'user', \n",
    "            'content': PROMPT_TEMPLATE.format(text=text)\n",
    "        }]\n",
    "    )\n",
    "    response = response.choices[0].message.content\n",
    "    return response.lower().strip()\n",
    "\n",
    "\n",
    "def get_opinion_ollama(model, text):\n",
    "    response = ollama.chat(\n",
    "        model=model,\n",
    "        messages=[{\n",
    "            'role': 'user',\n",
    "            'content': PROMPT_TEMPLATE.format(text=text)\n",
    "        }]\n",
    "    )\n",
    "    return response['message']['content'].lower().strip()\n",
    "\n",
    "\n",
    "def get_opinion(text, model='gpt-3.5-turbo-0125'):\n",
    "    if model == 'gpt-3.5-turbo-0125':\n",
    "        return get_opinion_openai(text)\n",
    "    return get_opinion_ollama(model, text)\n",
    "\n",
    "\n",
    "def normalize_opinion(opinion):\n",
    "    return (\n",
    "        'positive' if 'positive' in opinion \n",
    "        else 'negative' if 'negative' in opinion \n",
    "        else 'neutral'\n",
    "    )"
   ]
  },
  {
   "cell_type": "code",
   "execution_count": null,
   "metadata": {},
   "outputs": [],
   "source": [
    "for data in ('twitter', 'facebook'):\n",
    "    df = pd.read_csv(f'../data/processed/{data}_cachaca.csv')\n",
    "    df = id_to_categorical(\n",
    "        df[df.labels_int.notnull()][COLS_TO_KEEP], 'labels_int'\n",
    "    )\n",
    "    for model in ('llama3', 'mistral', 'gemma2', 'gpt-3.5-turbo-0125',):\n",
    "        opinions = []\n",
    "        for text in tqdm(df.text):\n",
    "            opinion = get_opinion(text, model)\n",
    "            normalized_opinion = normalize_opinion(opinion)\n",
    "            opinions.append(normalized_opinion)\n",
    "        df[model] = opinions\n",
    "    df.to_csv(f'../data/opinions/{data}_cachaca.csv', index=False)"
   ]
  }
 ],
 "metadata": {
  "kernelspec": {
   "display_name": "scarticle",
   "language": "python",
   "name": "python3"
  },
  "language_info": {
   "codemirror_mode": {
    "name": "ipython",
    "version": 3
   },
   "file_extension": ".py",
   "mimetype": "text/x-python",
   "name": "python",
   "nbconvert_exporter": "python",
   "pygments_lexer": "ipython3",
   "version": "3.11.6"
  }
 },
 "nbformat": 4,
 "nbformat_minor": 2
}
