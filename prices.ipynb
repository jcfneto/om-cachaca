{
 "cells": [
  {
   "cell_type": "code",
   "execution_count": 1,
   "metadata": {},
   "outputs": [],
   "source": [
    "import pandas as pd\n",
    "import tiktoken"
   ]
  },
  {
   "cell_type": "code",
   "execution_count": 2,
   "metadata": {},
   "outputs": [],
   "source": [
    "ECONDING_NAME = 'cl100k_base'\n",
    "enc = tiktoken.get_encoding(ECONDING_NAME)\n",
    "assert enc.decode(enc.encode(\"mengão campeão\")) == \"mengão campeão\""
   ]
  },
  {
   "cell_type": "code",
   "execution_count": 3,
   "metadata": {},
   "outputs": [
    {
     "data": {
      "text/plain": [
       "38"
      ]
     },
     "execution_count": 3,
     "metadata": {},
     "output_type": "execute_result"
    }
   ],
   "source": [
    "prompt = 'classifique a sentença <<PHRASE>> como positiva, negativa ou neutra. Responda apenas com \"positiva\", \"negativa\" ou \"neutra\".'\n",
    "prompt_tokens = len(enc.encode(prompt))\n",
    "prompt_tokens"
   ]
  },
  {
   "cell_type": "code",
   "execution_count": 4,
   "metadata": {},
   "outputs": [],
   "source": [
    "facebook_corpus = pd.read_csv('data/processed/facebook_cachaca.csv').dropna(subset=['text']).text.values\n",
    "twitter_corpus = pd.read_csv('data/raw/twitter-dataset-CachacaOM-completo.csv').text.values"
   ]
  },
  {
   "cell_type": "code",
   "execution_count": 5,
   "metadata": {},
   "outputs": [],
   "source": [
    "def count_tokens(corpus):\n",
    "    return sum(len(enc.encode(text)) + prompt_tokens for text in corpus)"
   ]
  },
  {
   "cell_type": "code",
   "execution_count": 6,
   "metadata": {},
   "outputs": [
    {
     "data": {
      "text/plain": [
       "(1776264, 1533719)"
      ]
     },
     "execution_count": 6,
     "metadata": {},
     "output_type": "execute_result"
    }
   ],
   "source": [
    "facebook_corpus_tokens = count_tokens(facebook_corpus)\n",
    "twitter_corpus_tokens = count_tokens(twitter_corpus)\n",
    "facebook_corpus_tokens, twitter_corpus_tokens"
   ]
  },
  {
   "cell_type": "code",
   "execution_count": 16,
   "metadata": {},
   "outputs": [],
   "source": [
    "BASE = 1_000_000\n",
    "prices = {\n",
    "    'gpt-4o': {'input': 5, 'output': 15},\n",
    "    'gpt-4-turbo': {'input': 10, 'output': 30},\n",
    "    'gpt-4': {'input': 30, 'output': 60},\n",
    "    'gpt-3.5-turbo-0125': {'input': 0.5, 'output': 1.5},\n",
    "}"
   ]
  },
  {
   "cell_type": "code",
   "execution_count": 19,
   "metadata": {},
   "outputs": [],
   "source": [
    "def get_prices(corpus, tokens):\n",
    "    for model, price in prices.items():\n",
    "        print(f'-> {model}')\n",
    "        print(f\"input: {(price['input'] * tokens) / BASE:.2f} USD\")\n",
    "        print(f\"output: {(price['output'] * 2 * corpus.shape[0]) / BASE:.2f} USD\")\n",
    "        print()"
   ]
  },
  {
   "cell_type": "code",
   "execution_count": 22,
   "metadata": {},
   "outputs": [
    {
     "name": "stdout",
     "output_type": "stream",
     "text": [
      "Facebook:\n",
      "-> gpt-4o\n",
      "input: 8.88 USD\n",
      "output: 1.04 USD\n",
      "\n",
      "-> gpt-4-turbo\n",
      "input: 17.76 USD\n",
      "output: 2.08 USD\n",
      "\n",
      "-> gpt-4\n",
      "input: 53.29 USD\n",
      "output: 4.15 USD\n",
      "\n",
      "-> gpt-3.5-turbo-0125\n",
      "input: 0.89 USD\n",
      "output: 0.10 USD\n",
      "\n",
      "Twitter:\n",
      "-> gpt-4o\n",
      "input: 7.67 USD\n",
      "output: 0.53 USD\n",
      "\n",
      "-> gpt-4-turbo\n",
      "input: 15.34 USD\n",
      "output: 1.07 USD\n",
      "\n",
      "-> gpt-4\n",
      "input: 46.01 USD\n",
      "output: 2.13 USD\n",
      "\n",
      "-> gpt-3.5-turbo-0125\n",
      "input: 0.77 USD\n",
      "output: 0.05 USD\n",
      "\n"
     ]
    }
   ],
   "source": [
    "print('Facebook:')\n",
    "get_prices(facebook_corpus, facebook_corpus_tokens)\n",
    "\n",
    "print('Twitter:')\n",
    "get_prices(twitter_corpus, twitter_corpus_tokens)"
   ]
  },
  {
   "cell_type": "code",
   "execution_count": null,
   "metadata": {},
   "outputs": [],
   "source": []
  }
 ],
 "metadata": {
  "kernelspec": {
   "display_name": "scarticle",
   "language": "python",
   "name": "python3"
  },
  "language_info": {
   "codemirror_mode": {
    "name": "ipython",
    "version": 3
   },
   "file_extension": ".py",
   "mimetype": "text/x-python",
   "name": "python",
   "nbconvert_exporter": "python",
   "pygments_lexer": "ipython3",
   "version": "3.11.6"
  }
 },
 "nbformat": 4,
 "nbformat_minor": 2
}
