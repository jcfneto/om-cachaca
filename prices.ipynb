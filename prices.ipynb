{
 "cells": [
  {
   "cell_type": "code",
   "execution_count": 1,
   "metadata": {},
   "outputs": [],
   "source": [
    "import pandas as pd\n",
    "import tiktoken"
   ]
  },
  {
   "cell_type": "code",
   "execution_count": 2,
   "metadata": {},
   "outputs": [],
   "source": [
    "ECONDING_NAME = 'cl100k_base'\n",
    "enc = tiktoken.get_encoding(ECONDING_NAME)\n",
    "assert enc.decode(enc.encode(\"mengão campeão\")) == \"mengão campeão\""
   ]
  },
  {
   "cell_type": "code",
   "execution_count": 3,
   "metadata": {},
   "outputs": [],
   "source": [
    "facebook_corpus = pd.read_csv('data/processed/facebook_cachaca.csv').dropna(subset=['text']).text.values\n",
    "twitter_corpus = pd.read_csv('data/raw/twitter-dataset-CachacaOM-completo.csv').text.values"
   ]
  },
  {
   "cell_type": "code",
   "execution_count": 4,
   "metadata": {},
   "outputs": [],
   "source": [
    "def count_tokens(corpus):\n",
    "    return sum(len(enc.encode(text)) for text in corpus)"
   ]
  },
  {
   "cell_type": "code",
   "execution_count": 5,
   "metadata": {},
   "outputs": [],
   "source": [
    "facebook_corpus_tokens = count_tokens(facebook_corpus)\n",
    "twitter_corpus_tokens = count_tokens(twitter_corpus)"
   ]
  },
  {
   "cell_type": "code",
   "execution_count": 6,
   "metadata": {},
   "outputs": [
    {
     "data": {
      "text/plain": [
       "(461502, 858611)"
      ]
     },
     "execution_count": 6,
     "metadata": {},
     "output_type": "execute_result"
    }
   ],
   "source": [
    "facebook_corpus_tokens, twitter_corpus_tokens"
   ]
  },
  {
   "cell_type": "code",
   "execution_count": 7,
   "metadata": {},
   "outputs": [
    {
     "name": "stdout",
     "output_type": "stream",
     "text": [
      "-> gpt-4o\n",
      "input: 2.31 USD\n",
      "output: 6.92 USD\n",
      "\n",
      "-> gpt-4-turbo\n",
      "input: 4.62 USD\n",
      "output: 13.85 USD\n",
      "\n",
      "-> gpt-4\n",
      "input: 13.85 USD\n",
      "output: 27.69 USD\n",
      "\n",
      "-> gpt-3.5-turbo-0125\n",
      "input: 0.23 USD\n",
      "output: 0.69 USD\n",
      "\n"
     ]
    }
   ],
   "source": [
    "BASE = 1_000_000\n",
    "prices = {\n",
    "    'gpt-4o': {'input': 5, 'output': 15},\n",
    "    'gpt-4-turbo': {'input': 10, 'output': 30},\n",
    "    'gpt-4': {'input': 30, 'output': 60},\n",
    "    'gpt-3.5-turbo-0125': {'input': 0.5, 'output': 1.5},\n",
    "}\n",
    "\n",
    "for model, price in prices.items():\n",
    "    print(f'-> {model}')\n",
    "    print(f\"input: {(price['input'] * facebook_corpus_tokens) / BASE:.2f} USD\")\n",
    "    print(f\"output: {(price['output'] * facebook_corpus_tokens) / BASE:.2f} USD\")\n",
    "    print()"
   ]
  }
 ],
 "metadata": {
  "kernelspec": {
   "display_name": "scarticle",
   "language": "python",
   "name": "python3"
  },
  "language_info": {
   "codemirror_mode": {
    "name": "ipython",
    "version": 3
   },
   "file_extension": ".py",
   "mimetype": "text/x-python",
   "name": "python",
   "nbconvert_exporter": "python",
   "pygments_lexer": "ipython3",
   "version": "3.11.6"
  }
 },
 "nbformat": 4,
 "nbformat_minor": 2
}
