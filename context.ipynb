{
 "cells": [
  {
   "cell_type": "code",
   "execution_count": 1,
   "metadata": {},
   "outputs": [],
   "source": [
    "import ollama\n",
    "import pandas as pd"
   ]
  },
  {
   "cell_type": "code",
   "execution_count": 2,
   "metadata": {},
   "outputs": [
    {
     "data": {
      "text/plain": [
       "3460"
      ]
     },
     "execution_count": 2,
     "metadata": {},
     "output_type": "execute_result"
    }
   ],
   "source": [
    "data = pd.read_csv('data/processed/facebook_cachaca.csv')\n",
    "messages = data.sample(frac=0.1).text.values.tolist()\n",
    "len(messages)"
   ]
  },
  {
   "cell_type": "code",
   "execution_count": 3,
   "metadata": {},
   "outputs": [],
   "source": [
    "base_prompt = 'Considere a frase a seguir, responda apenas com \"sim\" ou \"não\". ' \\\n",
    "    '\"sim\" se a frase remete a bebida Cachaça diretamente ou indiretamente e ' \\\n",
    "    '\"não\" se a frase não tem nenhuma relação com a bebida Cachaça:\\n\\n{sentence}'"
   ]
  },
  {
   "cell_type": "code",
   "execution_count": 4,
   "metadata": {},
   "outputs": [],
   "source": [
    "messages = [\n",
    "    {'role': 'user', 'content': base_prompt.format(sentence=sentence)}\n",
    "    for sentence in messages\n",
    "]"
   ]
  },
  {
   "cell_type": "code",
   "execution_count": 7,
   "metadata": {},
   "outputs": [],
   "source": [
    "responses = {\n",
    "    'text': [], \n",
    "    'cachaca': []\n",
    "}\n",
    "for message in messages:\n",
    "    response = ollama.chat(model='llama3', messages=[message])\n",
    "    message = message['content'].split('\\n\\n')[-1]\n",
    "    response_normalized = response['message']['content'].lower().strip()\n",
    "    responses['text'].append(message)\n",
    "    responses['cachaca'].append(True if 'sim' in response_normalized else False)"
   ]
  },
  {
   "cell_type": "code",
   "execution_count": 12,
   "metadata": {},
   "outputs": [],
   "source": [
    "pd.DataFrame(responses).to_csv('data/processed/facebook_cachaca_responses.csv', index=False)"
   ]
  }
 ],
 "metadata": {
  "kernelspec": {
   "display_name": "scarticle",
   "language": "python",
   "name": "python3"
  },
  "language_info": {
   "codemirror_mode": {
    "name": "ipython",
    "version": 3
   },
   "file_extension": ".py",
   "mimetype": "text/x-python",
   "name": "python",
   "nbconvert_exporter": "python",
   "pygments_lexer": "ipython3",
   "version": "3.11.6"
  }
 },
 "nbformat": 4,
 "nbformat_minor": 2
}
